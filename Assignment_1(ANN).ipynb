{
  "nbformat": 4,
  "nbformat_minor": 0,
  "metadata": {
    "colab": {
      "provenance": [],
      "authorship_tag": "ABX9TyOjvCcWKDJMHXirZ9AQ2AiK",
      "include_colab_link": true
    },
    "kernelspec": {
      "name": "python3",
      "display_name": "Python 3"
    },
    "language_info": {
      "name": "python"
    }
  },
  "cells": [
    {
      "cell_type": "markdown",
      "metadata": {
        "id": "view-in-github",
        "colab_type": "text"
      },
      "source": [
        "<a href=\"https://colab.research.google.com/github/mrunalini-ch/ANN/blob/main/Assignment_1(ANN).ipynb\" target=\"_parent\"><img src=\"https://colab.research.google.com/assets/colab-badge.svg\" alt=\"Open In Colab\"/></a>"
      ]
    },
    {
      "cell_type": "code",
      "execution_count": 13,
      "metadata": {
        "colab": {
          "base_uri": "https://localhost:8080/"
        },
        "id": "-mE8go4uF8bl",
        "outputId": "6d3ec463-1678-4872-8965-7c3e59a41e81"
      },
      "outputs": [
        {
          "output_type": "stream",
          "name": "stderr",
          "text": [
            "<ipython-input-13-c2e9607b89f6>:17: DeprecationWarning: `method='simplex'` is deprecated and will be removed in SciPy 1.11.0. Please use one of the HiGHS solvers (e.g. `method='highs'`) in new code.\n",
            "  opt = linprog(c=obj, A_ub=lhs_ineq, b_ub=rhs_ineq, bounds=bnd, method=\"simplex\")\n"
          ]
        },
        {
          "output_type": "execute_result",
          "data": {
            "text/plain": [
              "array([97.89473684,  7.36842105])"
            ]
          },
          "metadata": {},
          "execution_count": 13
        }
      ],
      "source": [
        "#import linprog\n",
        "from scipy.optimize import linprog\n",
        "\n",
        "obj = [-50, -120]\n",
        "#LHS\n",
        "lhs_ineq = [\n",
        "    [7000, 2000],  # Cost\n",
        "    [10, 30],      # Labor\n",
        "    [1, 1]         # Land\n",
        "]\n",
        "\n",
        "# RHS\n",
        "rhs_ineq = [700000, 1200, 110]\n",
        "bnd = [(0, float(\"inf\")), (0, float(\"inf\"))]\n",
        "\n",
        "# Solve\n",
        "opt = linprog(c=obj, A_ub=lhs_ineq, b_ub=rhs_ineq, bounds=bnd, method=\"simplex\")\n",
        "opt.x\n",
        "\n",
        "\n"
      ]
    }
  ]
}