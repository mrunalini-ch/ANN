{
  "nbformat": 4,
  "nbformat_minor": 0,
  "metadata": {
    "colab": {
      "provenance": [],
      "authorship_tag": "ABX9TyPvzQ8nVYaNEkGppYtZjco5",
      "include_colab_link": true
    },
    "kernelspec": {
      "name": "python3",
      "display_name": "Python 3"
    },
    "language_info": {
      "name": "python"
    }
  },
  "cells": [
    {
      "cell_type": "markdown",
      "metadata": {
        "id": "view-in-github",
        "colab_type": "text"
      },
      "source": [
        "<a href=\"https://colab.research.google.com/github/mrunalini-ch/ANN/blob/main/Assignment_3(ANN).ipynb\" target=\"_parent\"><img src=\"https://colab.research.google.com/assets/colab-badge.svg\" alt=\"Open In Colab\"/></a>"
      ]
    },
    {
      "cell_type": "code",
      "execution_count": 28,
      "metadata": {
        "colab": {
          "base_uri": "https://localhost:8080/"
        },
        "id": "-mE8go4uF8bl",
        "outputId": "25576147-bda2-4178-bde4-3ecb345dd446"
      },
      "outputs": [
        {
          "output_type": "stream",
          "name": "stdout",
          "text": [
            "Minimum value of objective function is 10.0058 at x = -0.0 and y = 6.762\n"
          ]
        }
      ],
      "source": [
        "import numpy as np\n",
        "import math as mt\n",
        "eta = 0.1\n",
        "x = np.random.uniform(-10, 10)\n",
        "y = np.random.uniform(-10, 10)\n",
        "iter_max = 100\n",
        "iter = 1\n",
        "\n",
        "# iterative procedure\n",
        "while iter <= iter_max:\n",
        "    grad_x = 6 * x\n",
        "    grad_y = -5 * mt.exp(-y)\n",
        "    x = x - eta * grad_x\n",
        "    y = y - eta * grad_y\n",
        "    iter = iter+1\n",
        "\n",
        "#solution\n",
        "obj = 3 * mt.pow(x, 2) + 5 * mt.exp(-y) + 10\n",
        "print(\"Minimum value of objective function is\", round(obj, 4),\n",
        "      \"at x =\", round(x, 4), \"and y =\", round(y, 4))\n",
        "\n",
        "\n",
        "\n",
        "\n"
      ]
    }
  ]
}