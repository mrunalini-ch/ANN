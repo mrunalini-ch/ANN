{
  "nbformat": 4,
  "nbformat_minor": 0,
  "metadata": {
    "colab": {
      "provenance": [],
      "authorship_tag": "ABX9TyPb23qHcjtxpqQHglxsgVxT",
      "include_colab_link": true
    },
    "kernelspec": {
      "name": "python3",
      "display_name": "Python 3"
    },
    "language_info": {
      "name": "python"
    }
  },
  "cells": [
    {
      "cell_type": "markdown",
      "metadata": {
        "id": "view-in-github",
        "colab_type": "text"
      },
      "source": [
        "<a href=\"https://colab.research.google.com/github/mrunalini-ch/ANN/blob/main/Assignment_2(ANN).ipynb\" target=\"_parent\"><img src=\"https://colab.research.google.com/assets/colab-badge.svg\" alt=\"Open In Colab\"/></a>"
      ]
    },
    {
      "cell_type": "code",
      "execution_count": 20,
      "metadata": {
        "colab": {
          "base_uri": "https://localhost:8080/"
        },
        "id": "-mE8go4uF8bl",
        "outputId": "74ae0ad8-54c8-4251-d1e9-d63b5b25eee7"
      },
      "outputs": [
        {
          "output_type": "stream",
          "name": "stdout",
          "text": [
            "control variable =  -0.1419\n",
            "objective function:  10.0608\n"
          ]
        }
      ],
      "source": [
        "import numpy as np\n",
        "\n",
        "x = np.random.uniform(-10, 10)\n",
        "eta = 0.001  # Learning rate\n",
        "iter_max = 200\n",
        "\n",
        "iter = 1\n",
        "while iter <= iter_max:\n",
        "    # Calculate the gradient\n",
        "    slope = 4 * x**3 + 6 * x  # Derivative\n",
        "    step_length = -eta * slope\n",
        "    x = x + step_length\n",
        "    iter = iter+1\n",
        "\n",
        "# Results\n",
        "print(\"control variable = \", round(x,4))\n",
        "obj = x**4 + 3 * x**2 + 10\n",
        "print(\"objective function: \",round(obj,4))\n",
        "\n",
        "\n",
        "\n"
      ]
    }
  ]
}